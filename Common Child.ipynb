{
 "cells": [
  {
   "cell_type": "markdown",
   "metadata": {},
   "source": [
    "https://www.hackerrank.com/challenges/common-child/problem"
   ]
  },
  {
   "cell_type": "code",
   "execution_count": 77,
   "metadata": {},
   "outputs": [
    {
     "name": "stdout",
     "output_type": "stream",
     "text": [
      "ABCD\n",
      "ABDC\n"
     ]
    }
   ],
   "source": [
    "a = input().strip()\n",
    "b = input().strip()"
   ]
  },
  {
   "cell_type": "code",
   "execution_count": 78,
   "metadata": {},
   "outputs": [],
   "source": [
    "def commonChild(x, y):\n",
    "    previous = [0 for i in range(len(x)+1)]\n",
    "    for xi in range(len(x)): \n",
    "        new = [0] \n",
    "        for yi in range(len(y)): \n",
    "            if x[xi] == y[yi]:\n",
    "                new.append(previous[yi]+1) \n",
    "            else:\n",
    "                if new[-1] > previous[yi+1]:\n",
    "                    new.append(new[-1])\n",
    "                else:\n",
    "                    new.append(previous[yi+1])\n",
    "        previous = new\n",
    "    return new[len(x)]"
   ]
  },
  {
   "cell_type": "code",
   "execution_count": 79,
   "metadata": {},
   "outputs": [
    {
     "data": {
      "text/plain": [
       "3"
      ]
     },
     "execution_count": 79,
     "metadata": {},
     "output_type": "execute_result"
    }
   ],
   "source": [
    "commonChild(a, b)"
   ]
  }
 ],
 "metadata": {
  "kernelspec": {
   "display_name": "Python 3",
   "language": "python",
   "name": "python3"
  },
  "language_info": {
   "codemirror_mode": {
    "name": "ipython",
    "version": 3
   },
   "file_extension": ".py",
   "mimetype": "text/x-python",
   "name": "python",
   "nbconvert_exporter": "python",
   "pygments_lexer": "ipython3",
   "version": "3.8.5"
  }
 },
 "nbformat": 4,
 "nbformat_minor": 4
}

{
 "cells": [
  {
   "cell_type": "markdown",
   "metadata": {},
   "source": [
    "https://www.hackerrank.com/challenges/count-triplets-1/problem"
   ]
  },
  {
   "cell_type": "code",
   "execution_count": 1,
   "metadata": {},
   "outputs": [],
   "source": [
    "import math\n",
    "import os\n",
    "import random\n",
    "import re\n",
    "import sys"
   ]
  },
  {
   "cell_type": "code",
   "execution_count": 2,
   "metadata": {},
   "outputs": [],
   "source": [
    "r = 2\n",
    "arr = [1, 2, 2, 4]"
   ]
  },
  {
   "cell_type": "code",
   "execution_count": 3,
   "metadata": {},
   "outputs": [],
   "source": [
    "def countTriplets(arr, r):\n",
    "    count = 0\n",
    "    before = {}\n",
    "    after = {}\n",
    "    \n",
    "    for n in arr: # populating the after dict\n",
    "        if n in after:\n",
    "            after[n]+=1\n",
    "        else:\n",
    "            after[n]=1\n",
    "            \n",
    "    for n in arr:\n",
    "        after[n]-=1 # removing the current value from after dict\n",
    "        # checking for 3 conditions\n",
    "        # if current element//r is present in before \n",
    "        # and n%r is 0\n",
    "        # and n*r is in the after dict\n",
    "        if n//r in before and n%r == 0 and n*r in after:\n",
    "            count+=before[n//r] * after[n*r]\n",
    "        if n in before: # if n is already present, increase the count in before dict\n",
    "            before[n]+=1\n",
    "        else: # else create a new key, value pair\n",
    "            before[n]=1\n",
    "        \n",
    "    return count\n",
    "        "
   ]
  },
  {
   "cell_type": "code",
   "execution_count": 4,
   "metadata": {},
   "outputs": [
    {
     "data": {
      "text/plain": [
       "2"
      ]
     },
     "execution_count": 4,
     "metadata": {},
     "output_type": "execute_result"
    }
   ],
   "source": [
    "countTriplets(arr, r)"
   ]
  }
 ],
 "metadata": {
  "kernelspec": {
   "display_name": "Python 3",
   "language": "python",
   "name": "python3"
  },
  "language_info": {
   "codemirror_mode": {
    "name": "ipython",
    "version": 3
   },
   "file_extension": ".py",
   "mimetype": "text/x-python",
   "name": "python",
   "nbconvert_exporter": "python",
   "pygments_lexer": "ipython3",
   "version": "3.8.5"
  }
 },
 "nbformat": 4,
 "nbformat_minor": 4
}

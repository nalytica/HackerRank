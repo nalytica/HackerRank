{
 "cells": [
  {
   "cell_type": "code",
   "execution_count": 25,
   "metadata": {},
   "outputs": [],
   "source": [
    "import bisect"
   ]
  },
  {
   "cell_type": "code",
   "execution_count": 26,
   "metadata": {},
   "outputs": [
    {
     "name": "stdout",
     "output_type": "stream",
     "text": [
      "9 5\n",
      "2 3 4 2 3 6 8 4 5\n"
     ]
    }
   ],
   "source": [
    "n,d = map(int,input().split())\n",
    "exp = list(map(int,input().split()))"
   ]
  },
  {
   "cell_type": "code",
   "execution_count": 27,
   "metadata": {},
   "outputs": [],
   "source": [
    "arr = sorted(exp[0:d])\n",
    "m=d//2\n",
    "notif = 0"
   ]
  },
  {
   "cell_type": "code",
   "execution_count": 28,
   "metadata": {},
   "outputs": [],
   "source": [
    "def med(arr, d, n):\n",
    "    if d%2 == 0:\n",
    "        return sum(arr[m-1:m+1])/2\n",
    "    else:\n",
    "        return arr[m]"
   ]
  },
  {
   "cell_type": "code",
   "execution_count": 29,
   "metadata": {},
   "outputs": [
    {
     "name": "stdout",
     "output_type": "stream",
     "text": [
      "2\n"
     ]
    }
   ],
   "source": [
    "for i in range(d, n):\n",
    "    if exp[i] >= 2*med(arr, d, n):\n",
    "        notif+=1\n",
    "    del arr[bisect.bisect_left(arr, exp[i-d])] # [i-d] == [d-d] == 0\n",
    "    bisect.insort(arr, exp[i]) # add the next element\n",
    "print(notif)"
   ]
  }
 ],
 "metadata": {
  "kernelspec": {
   "display_name": "Python 3",
   "language": "python",
   "name": "python3"
  },
  "language_info": {
   "codemirror_mode": {
    "name": "ipython",
    "version": 3
   },
   "file_extension": ".py",
   "mimetype": "text/x-python",
   "name": "python",
   "nbconvert_exporter": "python",
   "pygments_lexer": "ipython3",
   "version": "3.8.5"
  }
 },
 "nbformat": 4,
 "nbformat_minor": 4
}
